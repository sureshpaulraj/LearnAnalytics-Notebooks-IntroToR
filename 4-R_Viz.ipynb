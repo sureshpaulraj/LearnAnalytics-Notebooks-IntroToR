{
 "cells": [
  {
   "cell_type": "markdown",
   "metadata": {},
   "source": [
    "# Introduction to R Visualizations\n",
    "\n",
    "In this module we will explore some of the approaches for visualizing data within R.\n",
    "\n",
    "If you are unfamiliar with notebooks, please review some basics [here](https://github.com/michhar/useR2016-tutorial-jupyter). \n",
    "\n",
    "## Essential Tips\n",
    "\n",
    "A very brief summary of the critical components and commands within jupyter are:\n",
    "\n",
    "1. Critically, press `Ctrl+Enter` to run (or render) the current cell.\n",
    "2. Output will print to the notebook. You may have to scroll up to see it all.\n",
    "3. Get help for any function by typing a question mark and then its name into\n",
    "   the console: `?rxLinMod`. It will split the window, and will bring up the documentation for \n",
    "   that function below.\n",
    "5. Files will appear in the specified directory. You can find them by selecting File in the menu bar and selecting \"Open...\". This will open a new browser window with a file navigator.\n",
    "6. R objects can be viewed by typing `ls()` in an R cell.\n",
    "7. Run all the example code!\n",
    "\n",
    "There are a number of hands-on exercises in the document, so while you can run the notebook from beginning to end, you will get a lot more out of it by actually walking through cell-by-cell, and filling out the corresponding exercises.\n",
    "\n",
    "These notebooks are based on a tutorial presented at a Microsoft conference in June of 2016. The original files are available [here](https://github.com/joseph-rickert/MLADS_JUNE_2016).\n",
    "\n",
    "Before we get started, we'll source a configuration file in the next cell. It simply makes sure that the relevant R packages and datasets are available. You do not need to look at it, but if you are interested, you can view the configuration file [here](Resources/config.R). It may take a few moments to run the first time you run it, but it should be fast afterwards."
   ]
  },
  {
   "cell_type": "code",
   "execution_count": null,
   "metadata": {
    "collapsed": false
   },
   "outputs": [],
   "source": [
    "source(\"Resources/config.R\")"
   ]
  },
  {
   "cell_type": "markdown",
   "metadata": {},
   "source": [
    "## Visualizations in R\n",
    "\n",
    "There are three major plotting systems in R: \n",
    "\n",
    "1. base graphics\n",
    "2. lattice graphics\n",
    "3. ggplot2 \n",
    "\n",
    "Additionally, there is a significant amount of development work going on to allow R users to produce dynamic Javascript plots. In this module we will give an example of plotting histograms in all three systems and then go on to show more ggplot2 examples and finish with a Javascript based interactive plot\n",
    "\n",
    "### R's Three Plotting Systems\n",
    "\n",
    "For this we will use Duncan's famous Prestige data set that shows income, education level and a prestige score for \"professional\" (prof), \"blue collar\" (bc), and \"white collar\" (wc) workers. Conveniently, these data are available in the `car` package, which is the package associated with the book [\"An R Companion to Applied Regression\"](http://socserv.socsci.mcmaster.ca/jfox/Books/Companion/index.html). To load a package and make its functions and datasets available, we use the function `library()`.\n",
    "\n",
    "Let's first explore the data using base graphics. \n",
    "\n",
    "First step - let's load and view the dataset."
   ]
  },
  {
   "cell_type": "code",
   "execution_count": null,
   "metadata": {
    "collapsed": false
   },
   "outputs": [],
   "source": [
    "library(car)\n",
    "data(Duncan)\n",
    "dim(Duncan)\n",
    "head(Duncan)"
   ]
  },
  {
   "cell_type": "markdown",
   "metadata": {},
   "source": [
    "Next, we will create some individual vectors to create histograms:"
   ]
  },
  {
   "cell_type": "code",
   "execution_count": null,
   "metadata": {
    "collapsed": false
   },
   "outputs": [],
   "source": [
    "# Select data using basic subsetting\n",
    "inc_prof <- Duncan[Duncan$type==\"prof\",\"income\"]\n",
    "inc_bc <- Duncan[Duncan$type==\"bc\",\"income\"]\n",
    "inc_wc <- Duncan[Duncan$type==\"wc\",\"income\"]\n",
    "\n",
    "## plot all 3:\n",
    "par(mfrow=c(1,3))  # set option to put 3 plots in one pane\n",
    "## BC\n",
    "hist(inc_bc, \n",
    "     prob = TRUE, \n",
    "     col = \"pink\", \n",
    "     main = (\"Income BC\"), \n",
    "     xlab=(\"Dollars\"))\n",
    "lines(density(inc_bc))\n",
    "## Prof\n",
    "hist(inc_prof, \n",
    "     prob = TRUE, \n",
    "     col = \"yellow\", \n",
    "     main = (\"Income Prof\"), \n",
    "     xlab=(\"Dollars\")) \n",
    "lines(density(inc_prof))\n",
    "## WC\n",
    "hist(inc_wc, \n",
    "     prob = TRUE, \n",
    "     col = \"light blue\", \n",
    "     main = (\"Income WC\"), \n",
    "     xlab=(\"Dollars\")) \n",
    "lines(density(inc_wc)) \n",
    "par(mfrow=c(1,1))  # set it back to 1 plot per plane"
   ]
  },
  {
   "cell_type": "markdown",
   "metadata": {},
   "source": [
    "### Lattice (trellis) Graphics\n",
    "\n",
    "Lattice graphics are the second major plotting system in R. Plots built with lattice have a very distinctive look, but the real value is the ease of making trellis plots - graphs that display a variable conditioned on an other variable. Some useful websites are: \n",
    "http://www.statmethods.net/advgraphs/trellis.html\n",
    "http://user2007.org/program/presentations/sarkar.pdf"
   ]
  },
  {
   "cell_type": "code",
   "execution_count": null,
   "metadata": {
    "collapsed": false
   },
   "outputs": [],
   "source": [
    "library(lattice)\n",
    "histogram( ~ income | type, \n",
    "           data = Duncan,\n",
    "           nint=10,\n",
    "           xlab = \"Income\",  \n",
    "           main= \"Hitogram by profession\",\n",
    "           type = \"density\",\n",
    "           panel = function(x, ...) {\n",
    "             panel.histogram(x, ...)\n",
    "             panel.mathdensity(dmath = dnorm, col = \"black\",\n",
    "                               args = list(mean=mean(x),sd=sd(x)))\n",
    "           },\n",
    "           layout = c(3,1)\n",
    "         )\n",
    "\n"
   ]
  },
  {
   "cell_type": "markdown",
   "metadata": {},
   "source": [
    "Note that in that command, I could create an arbitrary panel function (defined in-line as the `panel` argument) that described the specific steps that I wanted to run in each panel. Further, when using the lattice package, I didn't need to do any subsetting - the formula specification `| type` indicated that there should be a unique panel for each level of `type`.\n",
    "\n",
    "Incredibly useful!"
   ]
  },
  {
   "cell_type": "markdown",
   "metadata": {},
   "source": [
    "### ggplot2 Graphics\n",
    "\n",
    "`ggplot` is the third major plotting system for R. It is based on Leland Wilkinson’s [grammar of graphics](http://www.cs.uic.edu/~wilkinson/TheGrammarOfGraphics/GOG.html) (hence the `gg` name).\n",
    "\n",
    "Some useful websites are: \n",
    " \n",
    "- http://ggplot2.org/ \n",
    "- http://docs.ggplot2.org/current/ \n",
    "- http://www.cookbook-r.com/Graphs/\n",
    "- http://www.rstudio.com/wp-content/uploads/2015/12/ggplot2-cheatsheet-2.0.pdf\n",
    "\n",
    "A key component of ggplot is that you effectively separate out key components of a visualization:\n",
    "\n",
    "- the data\n",
    "- the aesthetic mapping (i.e. which variables map onto which visualizatin properties like x axis and y axis)\n",
    "- the geometries (what kinds of things do you want to have in the visualization)\n",
    "- the operations or statistics (what do you want the geometries to represent?)\n",
    "\n",
    "We build a visualization in ggplot with layers - we start out by defining the data to be used and the aesthetic:"
   ]
  },
  {
   "cell_type": "code",
   "execution_count": null,
   "metadata": {
    "collapsed": true
   },
   "outputs": [],
   "source": [
    "library(ggplot2)\n",
    "p1 <- ggplot(Duncan,aes(income,..density.., fill=type))\n"
   ]
  },
  {
   "cell_type": "markdown",
   "metadata": {},
   "source": [
    "The first argument to `ggplot()` is the data, and the second argument is the aesthetic. An aesthetic is the mapping between variables and features in a plot - the first argument corresponds to the xxaxis, the second corresponds to the y-axis, and then other arguments can be used to specify other features, such as color for lines or color for fills. In this particular case, we create an aesthetic object with the `aes()` function, and that object specifes that we would like to place `income` on the x-axis,  `..density..` on the y-axis, and color the inside of any bars or objects we add with a color that maps onto the type variable. \n",
    "\n",
    "However, if we do this, we haven't actually plotted anything yet! We've just set the data and aesthetic. In order to actually render a plot, we actually need to add geometry layers. To do this, we literally use the `+` symbol to add these layers onto the plot!\n",
    "\n",
    "In the next cell, we add two geometries to the space defined in `p1`, and we add a `facet_grid()` that separates out the different types in a way that is very similar to what we did with lattice by specifying `| type`, and in base graphics with `par(mfrow = c(1,3))`).\n",
    "\n",
    "Note that `..density..` is an interesting and relatively advanced argument value, as it does not exist in the `Duncan` dataset. Rather, it is computed by the geometry functions that we add in the next cell (specifically both `geom_histogram()` and `geom_density()` compute density). \n"
   ]
  },
  {
   "cell_type": "code",
   "execution_count": null,
   "metadata": {
    "collapsed": false
   },
   "outputs": [],
   "source": [
    "p1 + geom_histogram(bins=10) +    ## adds a layer of the histogram\n",
    "     geom_density(alpha = 0.5) +             ## adds a layer of the density plot, makes the fill semi-transparent\n",
    "     facet_grid(. ~ type) +       ## makes sure that different levels of `type` are in different facets\n",
    "     xlab(\"Income: Canadian $\") +  ## adjust the x-axis label\n",
    "     ggtitle(\"Histogram by Profession\")   ## add a title to the graph"
   ]
  },
  {
   "cell_type": "markdown",
   "metadata": {},
   "source": []
  },
  {
   "cell_type": "markdown",
   "metadata": {},
   "source": [
    "### More ggplot2 visualizations\n",
    "\n",
    "Let's explore a few more visualizations with `ggplot2`.\n",
    "\n",
    "We will use the diamonds data set that comes with the `ggplot2` package.\n",
    "\n",
    "Because we have already loaded the `ggplot2` package with the `library()` function, we can actually find diamonds without adding it explicitly to the workspace.\n",
    "\n",
    "Let's examine the diamonds dataset:"
   ]
  },
  {
   "cell_type": "code",
   "execution_count": null,
   "metadata": {
    "collapsed": false
   },
   "outputs": [],
   "source": [
    "ls()\n",
    "head(diamonds)\n",
    "dim(diamonds)"
   ]
  },
  {
   "cell_type": "markdown",
   "metadata": {},
   "source": [
    "Next, let's sample down to 5000 rows to make rendering a little faster. We will use the `sample_n` function from the popular\n",
    "`dplyr` package:"
   ]
  },
  {
   "cell_type": "code",
   "execution_count": null,
   "metadata": {
    "collapsed": true
   },
   "outputs": [],
   "source": [
    "library(dplyr)\n",
    "set.seed(123)\n",
    "dsmall <- sample_n(diamonds,5000)"
   ]
  },
  {
   "cell_type": "markdown",
   "metadata": {},
   "source": [
    "### Scatter plots\n",
    "\n",
    "Let's start by creating some simple scatter plots.\n",
    "\n",
    "The documentation for ggplot2 is available at http://docs.ggplot2.org, and the \n",
    "relevant geometry we use to add to create a scatter plot is [geom_point()](http://docs.ggplot2.org/current/geom_point.html)\n",
    "\n",
    "Let's plot `carat` on the x axis, `price` on the y axis, and color each point according to what `cut` it is. We do this by defining the data set to be our small diamonds dataset (`dsmall`), and then constructing an aesthetic mapping with `aes()`. The first argument corresponds to the x-axis, the second corresponds to the y-axis, and then we specify color.\n"
   ]
  },
  {
   "cell_type": "code",
   "execution_count": null,
   "metadata": {
    "collapsed": true
   },
   "outputs": [],
   "source": [
    "p1 <- ggplot(dsmall,aes(carat,price,color=cut))"
   ]
  },
  {
   "cell_type": "markdown",
   "metadata": {},
   "source": [
    "Note again that we create the space with `ggplot()`, but that it doesn't actually render a plot until you add a geometry to it.\n",
    "\n",
    "Now, let's add some points to our plot and render it.\n"
   ]
  },
  {
   "cell_type": "code",
   "execution_count": null,
   "metadata": {
    "collapsed": false
   },
   "outputs": [],
   "source": [
    "p1 + geom_point()"
   ]
  },
  {
   "cell_type": "markdown",
   "metadata": {},
   "source": [
    "We can easily break down and facet as a function of another variable, in this case, we can make a separate plot for each level of `clarity` using facet_grid:"
   ]
  },
  {
   "cell_type": "code",
   "execution_count": null,
   "metadata": {
    "collapsed": false
   },
   "outputs": [],
   "source": [
    "p1 + geom_point() + facet_grid(. ~ clarity) "
   ]
  },
  {
   "cell_type": "markdown",
   "metadata": {},
   "source": [
    "If we want each facet to appear in different rows, we simply change the format of the formula in the `facet_grid()` call"
   ]
  },
  {
   "cell_type": "code",
   "execution_count": null,
   "metadata": {
    "collapsed": false
   },
   "outputs": [],
   "source": [
    "p1 + geom_point() + facet_grid(clarity ~ .) "
   ]
  },
  {
   "cell_type": "markdown",
   "metadata": {},
   "source": [
    "### Histograms\n",
    "\n",
    "As we saw above, we create historgrams with [geom_histogram](http://docs.ggplot2.org/current/geom_histogram.html).\n",
    "\n",
    "Because histogram does some data aggregation, we actually only need to specify the x-axis in the aesthetic mapping. By default, it will plot the frequency count of each bin. The `bins` argument in the geometry specifies how many bins should be used.\n"
   ]
  },
  {
   "cell_type": "code",
   "execution_count": null,
   "metadata": {
    "collapsed": false
   },
   "outputs": [],
   "source": [
    "p2 <- ggplot(dsmall, aes(x = price))\n",
    "p2 + geom_histogram(bins=200)"
   ]
  },
  {
   "cell_type": "markdown",
   "metadata": {},
   "source": [
    "As we saw in our first ggplot example, if we want to overlay with a density plot, it is useful to plot the density rather than the count. We do this by specifying `..density..` as the variable that should map onto the y-axis."
   ]
  },
  {
   "cell_type": "code",
   "execution_count": null,
   "metadata": {
    "collapsed": false
   },
   "outputs": [],
   "source": [
    "p2 <- ggplot(dsmall, aes(x = price, ..density..))\n",
    "p2 + \n",
    " geom_histogram(bins=200) + \n",
    " geom_density(alpha = 0.5, color = 'red', size = 2)    "
   ]
  },
  {
   "cell_type": "markdown",
   "metadata": {},
   "source": [
    "### Boxplots\n",
    "\n",
    "A Boxplot is another useful geometry that is available with ggplot, and it is available with the [geom_boxplot() function](http://docs.ggplot2.org/current/geom_boxplot.html)\n",
    "\n",
    "In this example, we specify the x-axis and color both as `cut`, and the y-axis as `carat`. \n",
    "\n"
   ]
  },
  {
   "cell_type": "code",
   "execution_count": null,
   "metadata": {
    "collapsed": false
   },
   "outputs": [],
   "source": [
    "p3 <- ggplot(dsmall, aes(cut,carat,fill=cut))\n",
    "p3 + geom_boxplot()"
   ]
  },
  {
   "cell_type": "markdown",
   "metadata": {},
   "source": [
    "This is one clear example of where different geometries really come into play. If we simply used geom_point(), the figure would be a dot plot, and much of the relevant information about the distribution at each level of `cut` would have been lost. However, using a boxplot allows us to visualize a number of properties of the distribution at each level of `cut`.\n",
    "\n",
    "#### Exercise\n",
    "\n",
    "Go ahead and try plotting with geom_point instead. (Remember that p3 still exists, so you can simply use that object to add a different geometry!"
   ]
  },
  {
   "cell_type": "code",
   "execution_count": null,
   "metadata": {
    "collapsed": false
   },
   "outputs": [],
   "source": [
    "## Place your exercise code here"
   ]
  },
  {
   "cell_type": "markdown",
   "metadata": {},
   "source": [
    "#### Exercise\n",
    "Next, create a new plot that examines the relationship between cut and cost."
   ]
  },
  {
   "cell_type": "code",
   "execution_count": null,
   "metadata": {
    "collapsed": false
   },
   "outputs": [],
   "source": [
    "## Place your exercise code here\n",
    "p3 <- ggplot(dsmall, aes(cut,price,fill=cut))\n",
    "p3 + geom_boxplot()"
   ]
  },
  {
   "cell_type": "markdown",
   "metadata": {},
   "source": [
    "### Scatter plot with statistical smoothing\n",
    "\n",
    "It's frequently very useful to be able to visualize trends in data. One way to do this is to estimate a smoothing function and draw a line that corresponds to that smoother. This is accomplished in ggplot with the [`geom_smooth()` function](http://docs.ggplot2.org/current/geom_smooth.html)"
   ]
  },
  {
   "cell_type": "code",
   "execution_count": null,
   "metadata": {
    "collapsed": false
   },
   "outputs": [],
   "source": [
    "p4 <- ggplot(data = dsmall, aes(carat, price)) \n",
    "p4 +  geom_point(aes(colour=cut)) + \n",
    "      geom_smooth(method=\"loess\") + \n",
    "      ggtitle(\"Sample of Diamonds Data with Smoother\") "
   ]
  },
  {
   "cell_type": "markdown",
   "metadata": {},
   "source": [
    "This is a powerful method, and allows for a lot of flexibility. For example, I can fit a simple linear regression by simply\n",
    "setting method to \"lm\":\n"
   ]
  },
  {
   "cell_type": "code",
   "execution_count": null,
   "metadata": {
    "collapsed": false
   },
   "outputs": [],
   "source": [
    "p4 +  geom_point(aes(colour=cut)) + \n",
    "      geom_smooth(method=\"lm\") + \n",
    "      ggtitle(\"Sample of Diamonds Data with lm Smoother\") "
   ]
  },
  {
   "cell_type": "markdown",
   "metadata": {},
   "source": [
    "And if I want to use a linear regression, but account for non-linear trends via polynomials, we can do that as well:"
   ]
  },
  {
   "cell_type": "code",
   "execution_count": null,
   "metadata": {
    "collapsed": false
   },
   "outputs": [],
   "source": [
    "p4 +  geom_point(aes(colour=cut)) + \n",
    "      geom_smooth(method=\"lm\", formula = y ~ poly(x,4)) + \n",
    "      ggtitle(\"Sample of Diamonds Data with Smoother\") "
   ]
  },
  {
   "cell_type": "markdown",
   "metadata": {},
   "source": [
    "### Plotting the Nile Overflow Data\n",
    "\n",
    "Next we'll look at another set of data about Nile river overflow. This data is in the `pracma` package"
   ]
  },
  {
   "cell_type": "code",
   "execution_count": null,
   "metadata": {
    "collapsed": false
   },
   "outputs": [],
   "source": [
    "library(pracma)   ## for Nile river data\n",
    "head(nile)        ## look at the first few rows\n",
    "?nile             ## Examine the nile data meta-data"
   ]
  },
  {
   "cell_type": "markdown",
   "metadata": {},
   "source": [
    "As we can see from the head (or from the data meta-data), the `nile` data.frame is in wide-format, where each row corresponds to a different year, and each column (other than year) corresponds to a different month. The actual value that is measured is a measure of flow at the Dongola measurement station.\n",
    "\n",
    "In order to make this dataset more amenable to visualizing with ggplot, we can convert it to long format by using hte `melt` function from the `reshape2` package:"
   ]
  },
  {
   "cell_type": "code",
   "execution_count": null,
   "metadata": {
    "collapsed": false
   },
   "outputs": [],
   "source": [
    "library(reshape2)           # for melt function to build long form data frame\n",
    "\n",
    "nile_dat <- melt(\n",
    "    nile,                           # dataset we are processing\n",
    "    idvar=\"Year\",                   # The grouping variable that has repeated measurements within it\n",
    "    measure.vars=month.abb,         # which variables correspond to measures we want to reformat (all the months)\n",
    "    variable.name=\"Month\",          # The variable name in the new data.frame we want to create to hold month values\n",
    "    value.name=\"Flow\"                # THe variable name in the new data.frame we want to create to hold the actual observed values\n",
    ")\n",
    "head(nile_dat)"
   ]
  },
  {
   "cell_type": "markdown",
   "metadata": {},
   "source": [
    "As we can see, it has been reformatted appropriately, but we probably want to sort according to year first, and then by Month. Fortunately, `melt()` already cast the months in the appropriate order, so they will be sorted appropriately."
   ]
  },
  {
   "cell_type": "code",
   "execution_count": null,
   "metadata": {
    "collapsed": false
   },
   "outputs": [],
   "source": [
    "## because the dplyr package is already attached, we can use arrange to sort the way we want.\n",
    "nile_dat_long <- arrange(nile_dat, Year, Month)\n",
    "head(nile_dat_long)"
   ]
  },
  {
   "cell_type": "markdown",
   "metadata": {},
   "source": [
    "We haven't seen this yet, but R also has built-in support for dates. We can create a character string that maps onto a date string, and then we can convert that to an internal date object that R will be able to treat appropriately.\n",
    "\n",
    "In this case, we'll just assume the 15th of each month as the date of the actual observation."
   ]
  },
  {
   "cell_type": "code",
   "execution_count": null,
   "metadata": {
    "collapsed": false
   },
   "outputs": [],
   "source": [
    "# We can also create a date variable\n",
    "# Make a date variable\n",
    "nile_dat_long$Date <- with(nile_dat_long, paste0(Month,\"-\",\"15\",\"-\",as.character(Year)))\n",
    "nile_dat_long$Date <- as.Date(nile_dat_long$Date,format=\"%b-%d-%Y\")\n",
    "\n",
    "head(nile_dat_long)"
   ]
  },
  {
   "cell_type": "markdown",
   "metadata": {},
   "source": [
    "Now that we have reformatted, let's see what the data actually looks like.\n",
    "\n",
    "Let's start by plotting the observed flow as a function of the date for 200 observations."
   ]
  },
  {
   "cell_type": "code",
   "execution_count": null,
   "metadata": {
    "collapsed": false
   },
   "outputs": [],
   "source": [
    "# Plot the time series\n",
    "p <- ggplot(nile_dat_long[100:300,],aes(x=Date,y=Flow)) # set up the data and aesthetic\n",
    "# actually make the plot:\n",
    "p + geom_line() +                           # include a line from observation to observation\n",
    "  geom_point(shape=1,col=\"red\") +           # place a point as well.  \n",
    "  ggtitle(\"Monthly Flow of Nile River at Dongola Station\")"
   ]
  },
  {
   "cell_type": "markdown",
   "metadata": {},
   "source": [
    "That looks pretty cyclical. \n",
    "Now let's actually plot an aggregation of all the data, and plot a boxplot for each month to see if it has a pretty regular 12 month cycle."
   ]
  },
  {
   "cell_type": "code",
   "execution_count": null,
   "metadata": {
    "collapsed": false
   },
   "outputs": [],
   "source": [
    "# Boxplots of monthly flows\n",
    "b <- ggplot(nile_dat_long,aes(Month,Flow))                                  # Set up data and aesthetic\n",
    "b + geom_boxplot() +                                                       # Create the boxplot!\n",
    "  stat_summary(fun.y=mean, geom = \"line\", aes(group = 1), color = 'red', size = 2) + # Draw a line connecting the mean of each distribution\n",
    "  ggtitle(\"Variation of Flow at Dongola Station by Month\")"
   ]
  },
  {
   "cell_type": "markdown",
   "metadata": {},
   "source": [
    "### BONUS: Create an interactive graph with a Javascript library\n",
    "\n",
    "In addition to the three visualization approaches above, there are also additional packages and functions that can provide interactive graphs. One approach is implemented in the `dygraphs` package. See additional details [here](http://rstudio.github.io/dygraphs/)."
   ]
  },
  {
   "cell_type": "code",
   "execution_count": null,
   "metadata": {
    "collapsed": false
   },
   "outputs": [],
   "source": [
    "library(xts)    ## works with time-series objects\n",
    "library(dygraphs)\n",
    "# Make into a time series object\n",
    "nile_ts <- xts(nile_dat_long$Obs,\n",
    "               order.by=nile_dat_long$Date,\n",
    "               frequency=12,start=c(1871,1))\n",
    "\n",
    "# Plot with htmlwidget dygraph\n",
    "dygraph(nile_ts, \n",
    "        main=\"Nile Monthly Flow Data\", width = 600, height = 500) %>%\n",
    "  dySeries(\"V1\",label=\"Flow\") %>%\n",
    "  dyRangeSelector(dateWindow = c(\"1871-01-01\",\"1984-12-01\"))\n"
   ]
  }
 ],
 "metadata": {
  "anaconda-cloud": {},
  "kernelspec": {
   "display_name": "MR Client 3.2.2",
   "language": "R",
   "name": "irmrc32"
  },
  "language_info": {
   "codemirror_mode": "r",
   "file_extension": ".r",
   "mimetype": "text/x-r-source",
   "name": "R",
   "pygments_lexer": "r",
   "version": "3.2.2"
  }
 },
 "nbformat": 4,
 "nbformat_minor": 0
}
