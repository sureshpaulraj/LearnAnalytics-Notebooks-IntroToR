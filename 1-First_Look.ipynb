{
 "cells": [
  {
   "cell_type": "markdown",
   "metadata": {},
   "source": [
    "# A First Look at R\n",
    "\n",
    "This notebook is intended to provide you with a first look at the R programming language, starting from basic calculations and moving up through a linear regression. \n",
    "\n",
    "If you are unfamiliar with notebooks, please review some basics [here](https://github.com/michhar/useR2016-tutorial-jupyter). \n",
    "\n",
    "## Essential Tips\n",
    "\n",
    "A very brief summary of the critical components and commands within jupyter are:\n",
    "\n",
    "1. Critically, press `Ctrl+Enter` to run (or render) the current cell.\n",
    "2. Output will print to the notebook. You may have to scroll up to see it all.\n",
    "3. Get help for any function by typing a question mark and then its name into\n",
    "   the console: `?rxLinMod`. It will split the window, and will bring up the documentation for \n",
    "   that function below.\n",
    "5. Files will appear in the specified directory. You can find them by selecting File in the menu bar and selecting \"Open...\". This will open a new browser window with a file navigator.\n",
    "6. R objects can be viewed by typing `ls()` in an R cell.\n",
    "7. Run all the example code!\n",
    "\n",
    "There are a number of hands-on exercises in the document, so while you can run the notebook from beginning to end, you will get a lot more out of it by actually walking through cell-by-cell, and filling out the corresponding exercises.\n",
    "\n",
    "These notebooks are based on a tutorial presented at a Microsoft conference in June of 2016. The original files are available [here](https://github.com/joseph-rickert/MLADS_JUNE_2016)\n",
    "\n",
    "\n",
    "The first thing to note is that R is an interpretive language. At its most basic, the console can be used as a simple calculator:"
   ]
  },
  {
   "cell_type": "code",
   "execution_count": null,
   "metadata": {
    "collapsed": false
   },
   "outputs": [],
   "source": [
    "2 + 2 "
   ]
  },
  {
   "cell_type": "markdown",
   "metadata": {},
   "source": [
    "Putting \";\" after a statement lets you put several statements on the same line."
   ]
  },
  {
   "cell_type": "code",
   "execution_count": null,
   "metadata": {
    "collapsed": false
   },
   "outputs": [],
   "source": [
    "log(10); sqrt(99); sin(pi)"
   ]
  },
  {
   "cell_type": "markdown",
   "metadata": {},
   "source": [
    "## Exercise\n",
    "\n",
    "Enter some math commands in the cell below. For example, take the square root of 1, or compute the cosine of pi/2."
   ]
  },
  {
   "cell_type": "code",
   "execution_count": null,
   "metadata": {
    "collapsed": true
   },
   "outputs": [],
   "source": [
    "# Exercise code: Place code in this cell and execute it with ctrl+ente\n"
   ]
  },
  {
   "cell_type": "markdown",
   "metadata": {},
   "source": [
    "## R was designed for statistical computing. \n",
    "\n",
    "Once you've established that you can work the interpreter as a calculator, it's useful to note that R was designed for statistical computing, so there are a number of functions that are already implemented to deal with statistical procedures.\n",
    "\n",
    "For example, in the next cell, we draw 1000 samples from a Normal (Gaussian) distribution with mean of 0 and variance of 1. We assign the 1000 samples to the vector `x` in **one line of code**!   "
   ]
  },
  {
   "cell_type": "code",
   "execution_count": null,
   "metadata": {
    "collapsed": true
   },
   "outputs": [],
   "source": [
    "x <- rnorm(1000)"
   ]
  },
  {
   "cell_type": "markdown",
   "metadata": {},
   "source": [
    "## R is quiet.\n",
    "\n",
    "Notice that you do not get any feedback!\n",
    "\n",
    "R usually does not give you any output unless you explicitly ask for it. Here are some basic ways of asking for output. "
   ]
  },
  {
   "cell_type": "code",
   "execution_count": null,
   "metadata": {
    "collapsed": false
   },
   "outputs": [],
   "source": [
    "head(x, 10)   # Look at the first 10 numbers in the vector x\n",
    "tail(x,5)     # Look at the last 5 numbers in the vector xlength(x)     \n",
    "length(x)     # To check on the length of x\n",
    "summary(x)    # Get a summary of x\n",
    "plot(x)       # Produce a scatter plot of x vs. the index (the numbers 1 to 1000)\n",
    "hist(x)       # Create a histogram of x"
   ]
  },
  {
   "cell_type": "markdown",
   "metadata": {},
   "source": [
    "Notice that typing `#` is the way to introduct a comment.  \n",
    "\n",
    "Next, we produce a fancier histogram with some color, a superimposed standard normal distribution curve and a \"rug\" underneath showing where the points are."
   ]
  },
  {
   "cell_type": "code",
   "execution_count": null,
   "metadata": {
    "collapsed": false
   },
   "outputs": [],
   "source": [
    "hist(x, freq = FALSE, col = \"pink\")         \n",
    "curve(dnorm,                                    # plot normal density\n",
    "      col = \"dark blue\",                        # set coor of curve\n",
    "      lwd=2,                                    # fill in the area under the curve\n",
    "      add = TRUE)                               # add curve to existing plot\n",
    "rug(x,col=\"red\") "
   ]
  },
  {
   "cell_type": "markdown",
   "metadata": {},
   "source": [
    "## R has a rich set of built-in functions.\n",
    "In addition to the mathematical functions `sin()`, `log()`, we have just seen a number of other functions that are available, e.g.:\n",
    "\n",
    "- `rnorm()`\n",
    "- `head()`\n",
    "- `tail()`\n",
    "- `length()`\n",
    "- `summary()`\n",
    "- `plot()`\n",
    "- `hist()`\n",
    "- `curve()`\n",
    "\n",
    "To get help with a function named foo, type `?foo`. \n",
    "\n",
    "## Exercise\n",
    "\n",
    "We just used `hist()` a couple of different times, once with only the data as an argument, and a second time with a couple of additional arguments (`freq` and `col`). Use `?` to get help on `hist()`, see what other options are available. Can you use an argument to change the shading density of the columns?"
   ]
  },
  {
   "cell_type": "code",
   "execution_count": null,
   "metadata": {
    "collapsed": true
   },
   "outputs": [],
   "source": [
    "## Get help here!\n"
   ]
  },
  {
   "cell_type": "markdown",
   "metadata": {},
   "source": [
    "## R is vectorized. \n",
    "\n",
    "We can frequently work with vectors in whole, rather than writing loops to process individual elements."
   ]
  },
  {
   "cell_type": "code",
   "execution_count": null,
   "metadata": {
    "collapsed": false
   },
   "outputs": [],
   "source": [
    "y <- 1:10         # Assign the numbers 1 to 10 to a vector\n",
    "y                 # Print the vector\n",
    "2 + y; 2 * y      # Perform vector addition and multiplication"
   ]
  },
  {
   "cell_type": "markdown",
   "metadata": {},
   "source": [
    "## There are a lot of built-in data sets in R\n",
    "\n",
    "Type `data()` to see what data sets are available. "
   ]
  },
  {
   "cell_type": "code",
   "execution_count": null,
   "metadata": {
    "collapsed": true
   },
   "outputs": [],
   "source": [
    "data()"
   ]
  },
  {
   "cell_type": "markdown",
   "metadata": {},
   "source": [
    "## Exercise\n",
    "\n",
    "The output which will appear under a new tab when you type this in the IDE depends on what packages you have loaded. In order to find out more, you can use `data(dataset_name)` to load the data set, and get help on the dataset by typing either `help(dataset_name)` or `?dataset_name`. Then type `dataset_name` to look at it. Load the `mtcars` dataset using `data()`, and then get help on it. Many functions work on datasets - try using some of the functions we used earlier on `x` on `mtcars` (e.g. `head()`, `tail()`, `summary()`"
   ]
  },
  {
   "cell_type": "code",
   "execution_count": null,
   "metadata": {
    "collapsed": true
   },
   "outputs": [],
   "source": [
    "## Place exercise code here:\n"
   ]
  },
  {
   "cell_type": "markdown",
   "metadata": {},
   "source": [
    "The fundamental data structure for doing statistical analysis is a `data.frame`. \n",
    "`mtcars` is a `data.frame`. You can check this with the `class()` function."
   ]
  },
  {
   "cell_type": "code",
   "execution_count": null,
   "metadata": {
    "collapsed": false
   },
   "outputs": [],
   "source": [
    "class(mtcars)     # To check on the class of an R object\n",
    "class(x)          # what kind of object is x?"
   ]
  },
  {
   "cell_type": "markdown",
   "metadata": {},
   "source": [
    "## R shines at exploratory data analysis\n",
    "\n",
    "We can work with variables within a dataset in a variety of ways.\n",
    "\n",
    "One common way is to use the `with()` function to work with the variables in the data frame:"
   ]
  },
  {
   "cell_type": "code",
   "execution_count": null,
   "metadata": {
    "collapsed": false
   },
   "outputs": [],
   "source": [
    "with(mtcars,cor(drat,mpg))        \n",
    "# There is a positive correlation beteen therear axel ratio and mpg!!"
   ]
  },
  {
   "cell_type": "markdown",
   "metadata": {},
   "source": [
    "## Extracting individual variables\n",
    "\n",
    "If we want to extract a single variable from a dataset, we can use `$` to refer directly to the variables in the data frame mtcars.    "
   ]
  },
  {
   "cell_type": "code",
   "execution_count": null,
   "metadata": {
    "collapsed": false
   },
   "outputs": [],
   "source": [
    "plot(mtcars$drat,mtcars$mpg)      "
   ]
  },
  {
   "cell_type": "markdown",
   "metadata": {},
   "source": [
    "Notice this is the same `plot()` function we used above for 1 variable!"
   ]
  },
  {
   "cell_type": "markdown",
   "metadata": {},
   "source": [
    "## R is really vectorized\n",
    "\n",
    "We just saw that `cor()` computes the correlations between two variables. However, if we pass a `data.frame` as an argument to `cor()`, then it actually computes *all pair-wise correlations*!\n"
   ]
  },
  {
   "cell_type": "code",
   "execution_count": null,
   "metadata": {
    "collapsed": false
   },
   "outputs": [],
   "source": [
    "cor(mtcars)"
   ]
  },
  {
   "cell_type": "markdown",
   "metadata": {},
   "source": [
    "## R is functional\n",
    "\n",
    "We can use \"higher-level\" functions to dispatch functions across multiple variables as well!\n",
    "\n",
    "For example, we can use the `sapply()` function to apply the `scale()` function to every column in the data frame simultaneously. Then, we can also summarize and visualize the new `data.frame` in order to check that the `sapply()` call worked as expected.\n",
    "\n"
   ]
  },
  {
   "cell_type": "code",
   "execution_count": null,
   "metadata": {
    "collapsed": false
   },
   "outputs": [],
   "source": [
    "df <-sapply(mtcars,scale)         # Center and scale all of the variables\n",
    "summary(df)\n",
    "boxplot(df, col=\"yellow\")         # Compare the distributions of the variables"
   ]
  },
  {
   "cell_type": "markdown",
   "metadata": {},
   "source": [
    "## Fit a simple regression model\n",
    "\n",
    "R also has a number of built-in functions for model fitting and estimation. For example, the `lm` function is used to estimate an ordinary-least-squares regression. \n",
    "\n",
    "Model specification is defined in a unique way with R - we use a `formula` syntax. We will talk about this in more depth later, but for now, we can create a model predicting miles per gallon based on rear axle ratio with the following command:"
   ]
  },
  {
   "cell_type": "code",
   "execution_count": null,
   "metadata": {
    "collapsed": true
   },
   "outputs": [],
   "source": [
    "reg1 <- lm(mtcars$mpg ~ mtcars$drat)"
   ]
  },
  {
   "cell_type": "markdown",
   "metadata": {},
   "source": [
    "Notice again that when I run `lm()`, no output is provided. In order to actually provide some output to the user, we need to actually do something to the `reg1` object that we just created. One of the most useful functions we can use on the output of a call to `lm()` is `summary()`:"
   ]
  },
  {
   "cell_type": "code",
   "execution_count": null,
   "metadata": {
    "collapsed": false
   },
   "outputs": [],
   "source": [
    "summary(reg1)        "
   ]
  },
  {
   "cell_type": "markdown",
   "metadata": {},
   "source": [
    "Notice that we are using the same `summary()` function that we used above. We have used `summary()` to summarize our vector of samples, the mtcars dataset, and, now, an estimated regression model. \n",
    "\n",
    "While we can use `summary()`, there are also a host of other functions that we can use to investigate the results.\n"
   ]
  },
  {
   "cell_type": "code",
   "execution_count": null,
   "metadata": {
    "collapsed": false
   },
   "outputs": [],
   "source": [
    "anova(reg1)          # Standard analysis of variance table\n",
    "coef(reg1)           # extract the coefficients\n",
    "str(reg1)            # examine the structure of the reg1 result\n",
    "fitted(reg1)         # extract the fitted values\n",
    "resid(reg1)          # extract the residuals"
   ]
  },
  {
   "cell_type": "markdown",
   "metadata": {},
   "source": [
    "## Visualizing the Model\n",
    "\n",
    "Moreover, we can use various functions to either plot a regression line on-top of a scatter plot, or to create diagnostic plots to examine the model."
   ]
  },
  {
   "cell_type": "code",
   "execution_count": null,
   "metadata": {
    "collapsed": false
   },
   "outputs": [],
   "source": [
    "\n",
    "# Plot the data with the regression line added\n",
    "plot(mtcars$drat,mtcars$mpg, main=\"Regression Model\")\n",
    "abline(reg1,col=\"red\")\n",
    "\n",
    "## diagnostic plots\n",
    "par(mfrow=c(2,2))    # Some code to put the 4 plots together\n",
    "plot(reg1) \n"
   ]
  },
  {
   "cell_type": "markdown",
   "metadata": {},
   "source": [
    "## Fit multiple regression model\n",
    "\n",
    "Fitting a multiple regression model involves the same exact function - `lm()`. The only difference is that we can specify more than one variable on the right hand side of the `formula`, and concatenate them with a `+` sign in order to indicate the inclusion of only additive effects. "
   ]
  },
  {
   "cell_type": "code",
   "execution_count": null,
   "metadata": {
    "collapsed": true
   },
   "outputs": [],
   "source": [
    "reg2 <- lm(mpg ~ wt + qsec + gear + vs + am, data = mtcars) # Note the use of the data argument"
   ]
  },
  {
   "cell_type": "markdown",
   "metadata": {},
   "source": [
    "Once we've estimated this model, we can use the *exact same* functions to interrogate this one as well. We can summarize it using `summary()`, extract coefficients using `coef()`, and even plot diagnostics with `plot()`:"
   ]
  },
  {
   "cell_type": "code",
   "execution_count": null,
   "metadata": {
    "collapsed": false
   },
   "outputs": [],
   "source": [
    "summary(reg2)\n",
    "coef(reg2)\n",
    "par(mfrow = c(2,2))\n",
    "plot(reg2)\n",
    "#str(reg2)            # Look at the model object"
   ]
  },
  {
   "cell_type": "markdown",
   "metadata": {},
   "source": [
    "## Exercise\n",
    "\n",
    "Can you extract the coefficient of determination (i.e. the `R^2`) value from the reg2 analysis? (Hint: it is *not* available as a field in `reg2`, but it *is* available as a field in its summary...).\n",
    "\n",
    "Can you fit a model with only the predictors that are significant in `reg2`? What is the `R^2` for that model?"
   ]
  },
  {
   "cell_type": "code",
   "execution_count": null,
   "metadata": {
    "collapsed": true
   },
   "outputs": [],
   "source": [
    "## Place exercise code here"
   ]
  },
  {
   "cell_type": "markdown",
   "metadata": {},
   "source": [
    "## Clean up\n",
    "\n",
    "Finally we can use the `rm()` functions to remove objects from our workspace. This will remove any objects we have, so if we want to do something with them, we need to recreate them!"
   ]
  },
  {
   "cell_type": "code",
   "execution_count": null,
   "metadata": {
    "collapsed": false
   },
   "outputs": [],
   "source": [
    "rm(mtcars)           # Remove mtcars\n",
    "rm(list=ls())        # Remove everything: USE WITH GREAT CARE!!"
   ]
  }
 ],
 "metadata": {
  "anaconda-cloud": {},
  "kernelspec": {
   "display_name": "MR Client 3.2.2",
   "language": "R",
   "name": "irmrc32"
  },
  "language_info": {
   "codemirror_mode": "r",
   "file_extension": ".r",
   "mimetype": "text/x-r-source",
   "name": "R",
   "pygments_lexer": "r",
   "version": "3.2.2"
  }
 },
 "nbformat": 4,
 "nbformat_minor": 0
}
