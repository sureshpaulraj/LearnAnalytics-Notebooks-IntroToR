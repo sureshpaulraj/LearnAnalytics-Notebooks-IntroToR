{
 "cells": [
  {
   "cell_type": "markdown",
   "metadata": {},
   "source": [
    "# R Language Basics\n",
    "\n",
    "In this module, we will explore the basics of R data structures and functions.\n",
    "\n",
    "If you are unfamiliar with notebooks, please review some basics [here](https://github.com/michhar/useR2016-tutorial-jupyter). \n",
    "\n",
    "## Essential Tips for jupyter notebooks\n",
    "\n",
    "A very brief summary of the critical components and commands within jupyter are:\n",
    "\n",
    "1. Critically, press `Ctrl+Enter` to run (or render) the current cell.\n",
    "2. Output will print to the notebook. You may have to scroll up to see it all.\n",
    "3. Get help for any function by typing a question mark and then its name into\n",
    "   the console: `?rxLinMod`. It will split the window, and will bring up the documentation for \n",
    "   that function below.\n",
    "5. Files will appear in the specified directory. You can find them by selecting File in the menu bar and selecting \"Open...\". This will open a new browser window with a file navigator.\n",
    "6. R objects can be viewed by typing `ls()` in an R cell.\n",
    "7. Run all the example code!\n",
    "\n",
    "There are a number of hands-on exercises in the document, so while you can run the notebook from beginning to end, you will get a lot more out of it by actually walking through cell-by-cell, and filling out the corresponding exercises.\n",
    "\n",
    "These notebooks are based on a tutorial presented at a Microsoft conference in June of 2016. The original files are available [here](https://github.com/joseph-rickert/MLADS_JUNE_2016)"
   ]
  },
  {
   "cell_type": "markdown",
   "metadata": {},
   "source": [
    "## Basic Data Structures\n",
    "\n",
    "R has 5 basic data structures:     \n",
    "\n",
    "1. atomic vectors\n",
    "2. matrices\n",
    "3. arrays\n",
    "4. lists\n",
    "5. data frames\n",
    "  \n",
    "Note that atomic vectors are as simple as it gets - the way to represent a scalar is to create a vector with only 1 element in it. Let's start with these.\n",
    "\n",
    "There are a variety of ways to create vectors, but the simplest is to use the `<-` assignment operator:\n"
   ]
  },
  {
   "cell_type": "code",
   "execution_count": null,
   "metadata": {
    "collapsed": true
   },
   "outputs": [],
   "source": [
    "v <- 3.14"
   ]
  },
  {
   "cell_type": "markdown",
   "metadata": {},
   "source": [
    "We can read the prior cell as \"v gets the value 10\"."
   ]
  },
  {
   "cell_type": "markdown",
   "metadata": {},
   "source": [
    "When we are investigating atomic vectors, it is useful to note that atomic vectors have 3 basic properties:\n",
    "\n",
    "1. type: the type of object that is represented\n",
    "2. length: the number of elements in the vector\n",
    "3. attributes: arbitrary other metadata (e.g. element names)\n",
    "\n",
    "We can access each of these properties with that property's accessor function.\n",
    "\n",
    "### Example 1"
   ]
  },
  {
   "cell_type": "code",
   "execution_count": null,
   "metadata": {
    "collapsed": false
   },
   "outputs": [],
   "source": [
    "v             ## returns the value of the object\n",
    "typeof(v)     ## returns the type of object - its first property\n",
    "length(v)     ## returns the length of the object - its second property\n",
    "attributes(v) ## returns the attributes of the object - its third property"
   ]
  },
  {
   "cell_type": "markdown",
   "metadata": {},
   "source": [
    "### Example 2\n",
    "\n",
    "We can create arbitrary vectors with the `c()` function. You can think of `c()` standing for \"combine\", in that the output of `c()` will combine all of its arguments is a single vector or list. "
   ]
  },
  {
   "cell_type": "code",
   "execution_count": null,
   "metadata": {
    "collapsed": false
   },
   "outputs": [],
   "source": [
    "b <- c('john', 'jane')    ## combine john and jane into a single vector!\n",
    "b                         ## return the value of b\n",
    "typeof(b)                 ## return the type\n",
    "length(b)                 ## return the length (its number of elemebts)\n",
    "attributes(b)             ## return the attributes"
   ]
  },
  {
   "cell_type": "markdown",
   "metadata": {},
   "source": [
    "### Attributes\n",
    "\n",
    "We have seen vectors with different types (numeric and character), and vectors with different numbers of elements. What are attributes used for?\n",
    "\n",
    "One of the most common uses of attributes with atomic vectors is to name the elements within a vector. We can name them when constructing them with the `c()` function:"
   ]
  },
  {
   "cell_type": "code",
   "execution_count": null,
   "metadata": {
    "collapsed": false
   },
   "outputs": [],
   "source": [
    "b2 <- c(first = \"jane\", last = \"doe\")\n",
    "attributes(b2)"
   ]
  },
  {
   "cell_type": "markdown",
   "metadata": {},
   "source": [
    "Because names are so common, they have their own accessor function:"
   ]
  },
  {
   "cell_type": "code",
   "execution_count": null,
   "metadata": {
    "collapsed": false
   },
   "outputs": [],
   "source": [
    "names(b2)"
   ]
  },
  {
   "cell_type": "markdown",
   "metadata": {},
   "source": [
    "### Types of atomic Vectors\n",
    "\n",
    "The four common types of atomic vectors are:   \n",
    "\n",
    "1. integer\n",
    "2. double\n",
    "3. character\n",
    "4. logical\n",
    "\n",
    "The type of an atomic vector is important, because atomic vectors are homogeneous. This means that *every element* within a single atomic vector has to be of the same type. If one element of object `myvec` is character is character, then they all have to be."
   ]
  },
  {
   "cell_type": "markdown",
   "metadata": {},
   "source": [
    "#### Integer vectors   \n",
    "\n",
    "In our previous examples, `v`, and `u` both contained integers, but were of `numeric` (i.e. double) type. How do we enforce R to use an integer representation?\n",
    "\n",
    "We can enforce integers by levering the \"L\" syntax, or by using a a specific coercion or casting function. In R, the conversion functions are almost always named `as.XXX()` where `XXX` is the target object type. To coerce one vector to be integer type, we can use `as.integer()`:"
   ]
  },
  {
   "cell_type": "code",
   "execution_count": null,
   "metadata": {
    "collapsed": false
   },
   "outputs": [],
   "source": [
    "u1 <- c(12L,55L,43L,9L)    # specify integer type - adding an `L` ensures that it will be integer\n",
    "typeof(u1)\n",
    "\n",
    "## revisit `u`\n",
    "typeof(u)\n",
    "u  <- as.integer(u)        # coerce u to be an integer vector\n",
    "typeof(u)   "
   ]
  },
  {
   "cell_type": "markdown",
   "metadata": {},
   "source": [
    "#### Character vectors\n",
    "\n",
    "Character vectors are created in the same kinds of ways that other vectors are. In the most general case, we can use `c()`:"
   ]
  },
  {
   "cell_type": "code",
   "execution_count": null,
   "metadata": {
    "collapsed": false
   },
   "outputs": [],
   "source": [
    "c1 <- c(\"abc\",\"def\",\"any old string\")       # form a character vector\n",
    "typeof(c1)\n",
    "length(c1)\n",
    "\n",
    "c2 <- c(\"2\",\"3\"); c2\n",
    "u2 <- as.integer(c2)        # coerce c2 to be an integer - as.integer() works on character vectors too!\n",
    "u2; typeof(u2)"
   ]
  },
  {
   "cell_type": "markdown",
   "metadata": {},
   "source": [
    "#### Logical vectors    \n",
    "\n",
    "In addition to integer, double, and character vectors, the next most common type of vector is logical. We can also create logical vectors with `c()` as well!"
   ]
  },
  {
   "cell_type": "code",
   "execution_count": null,
   "metadata": {
    "collapsed": false
   },
   "outputs": [],
   "source": [
    "u3 <- c(TRUE,T,FALSE,F)     # create a logical vector\n",
    "typeof(u3)"
   ]
  },
  {
   "cell_type": "markdown",
   "metadata": {},
   "source": [
    "#### Exercise\n",
    "\n",
    "While the symbols `T` and `F` can be used to abbreviate for the values TRUE and FALSE, you must be very careful with them, because they are not protected. For example, what is the type of the vector that is created with the following cell?"
   ]
  },
  {
   "cell_type": "code",
   "execution_count": null,
   "metadata": {
    "collapsed": true
   },
   "outputs": [],
   "source": [
    "T <- \"I am false!\"\n",
    "test_T <- c(TRUE, FALSE, T)\n",
    "rm(T)"
   ]
  },
  {
   "cell_type": "code",
   "execution_count": null,
   "metadata": {
    "collapsed": false
   },
   "outputs": [],
   "source": [
    "## Place your exercise code here"
   ]
  },
  {
   "cell_type": "markdown",
   "metadata": {},
   "source": [
    "#### Logical vectors\n",
    "\n",
    "Most logical vectors are not created by assigning TRUE and FALSE arbitrarily. Usually, logical vectors are created by evaluating logical expressions. For example, we can create a vector of 10 random numbers between 0 and 1, and then we ask whether each of those 10 values is greater than 0.5. The result of the comparison is assigned to a logical vector `u4`:"
   ]
  },
  {
   "cell_type": "code",
   "execution_count": null,
   "metadata": {
    "collapsed": false
   },
   "outputs": [],
   "source": [
    "r10 <- runif(10)\n",
    "u4 <- r10 > .5       # create a random logical vector\n",
    "u4; typeof(u4)  "
   ]
  },
  {
   "cell_type": "markdown",
   "metadata": {},
   "source": [
    "#### Exercise\n",
    "\n",
    "Get help on `Logic` and `Comparison` to identify which logical comparisons are available, and what each of their symbols is.\n",
    "\n",
    "Advanced: Can you describe the difference between `&&` and `&`? "
   ]
  },
  {
   "cell_type": "code",
   "execution_count": null,
   "metadata": {
    "collapsed": true
   },
   "outputs": [],
   "source": [
    "# Place you exercise code here."
   ]
  },
  {
   "cell_type": "markdown",
   "metadata": {},
   "source": [
    "#### Exercise\n",
    "\n",
    "As we mention above, atomic vectors are *homogeneous*, which means that every element is of the same type. Additionally, we mentioned that `c()` can be used to combine arbitrary vectors - our examples early were just combining vectors of length 1, but that was to be very clear.\n",
    "\n",
    "Use `c()` to combine `v` and `u1` into a new vector `vu1`. What is the type of the resulting vector? What is it's length?\n"
   ]
  },
  {
   "cell_type": "code",
   "execution_count": null,
   "metadata": {
    "collapsed": true
   },
   "outputs": [],
   "source": [
    "# Place exercise code here"
   ]
  },
  {
   "cell_type": "markdown",
   "metadata": {},
   "source": [
    "#### Exercise\n",
    "\n",
    "What happens if you use `c()` to combine `u4`, `u1`, `v`, and `c1`? How long is the result? What is the type?"
   ]
  },
  {
   "cell_type": "code",
   "execution_count": null,
   "metadata": {
    "collapsed": true
   },
   "outputs": [],
   "source": [
    "# Place exercise code here"
   ]
  },
  {
   "cell_type": "markdown",
   "metadata": {},
   "source": [
    "#### Exercise\n",
    "\n",
    "Finally - execute the following code. Can you determine why `test1` and `test2 are different?"
   ]
  },
  {
   "cell_type": "code",
   "execution_count": null,
   "metadata": {
    "collapsed": false
   },
   "outputs": [],
   "source": [
    "conversion1 <- c(c1, c(u4, u1))\n",
    "conversion2 <- c(c1, u4, u1)\n",
    "all(conversion1 == conversion2)    ## Why is this false?\n",
    "\n",
    "# Place exercise code here\n"
   ]
  },
  {
   "cell_type": "markdown",
   "metadata": {},
   "source": [
    "### Vector Operations\n",
    "\n",
    "The prior example on creating a random logical vector illustrates a very powerful feature of R. Many of the arithmetic and logical operations are vectorized, meaning that an author can use one statement to evaluate a function for *every element in an object*. When we look at the statement:\n",
    "\n",
    "```\n",
    "r10 > 0.5\n",
    "```\n",
    "\n",
    "That is evaluating whether each element of `r10` is greater than 0.5. While this is often very useful, we sometimes also want to extract subsets of that data. We can index from a vector using square brackets. \n",
    "\n",
    "In order to demonstrate this, let's generate a couple of new sequences. We can generate systematic numeric and integer sequences using `seq()` and the `:` operator.\n"
   ]
  },
  {
   "cell_type": "code",
   "execution_count": null,
   "metadata": {
    "collapsed": false
   },
   "outputs": [],
   "source": [
    "v1 <- seq(from = 1,to = 50, by=5)          # seq() generates sequences - see ?seq for more help\n",
    "v2 <- 1:10                                 # `:` operates like seq(..., by = 1), but returns an integer vector\n",
    "\n",
    "v1\n",
    "v2"
   ]
  },
  {
   "cell_type": "markdown",
   "metadata": {},
   "source": [
    "#### Subsetting\n",
    "\n",
    "We can subset by using the square bracket `[`. One feature of the square bracket is that it is pretty flexible.\n",
    "\n",
    "You can extract a single value - if the indexing value is numeric, it will return the element at that position:"
   ]
  },
  {
   "cell_type": "code",
   "execution_count": null,
   "metadata": {
    "collapsed": false
   },
   "outputs": [],
   "source": [
    "v1                                         # return the full vector\n",
    "v1[5]                                      # extracts the 5th value (length of the )"
   ]
  },
  {
   "cell_type": "markdown",
   "metadata": {},
   "source": [
    "Or, you can extract multiple values. If the indexing value has a length > 1, then it can extract as many values as you pass it. You can even extract the same value multiple times, so it's possible that the subset vector could be *longer* than your original vector!"
   ]
  },
  {
   "cell_type": "code",
   "execution_count": null,
   "metadata": {
    "collapsed": false
   },
   "outputs": [],
   "source": [
    "v2[3:4]                                # extracts the third and fourth values - indices can be vectors too!\n",
    "v3 <- v1[c(v2, v2)]                    # extracts all values of v1 twice!\n",
    "length(v3)\n",
    "v3"
   ]
  },
  {
   "cell_type": "markdown",
   "metadata": {},
   "source": [
    "Or, you can use logical vectors. If a logical vector is used, then it will extract all values for which the logical expression is true."
   ]
  },
  {
   "cell_type": "code",
   "execution_count": null,
   "metadata": {
    "collapsed": false
   },
   "outputs": [],
   "source": [
    "v2 <= 5\n",
    "v1[v2 <= 5]     ## extract the elements 1 - 5, because the first 5 elements are <= 5"
   ]
  },
  {
   "cell_type": "markdown",
   "metadata": {},
   "source": [
    "If elements are named, then you can also subset with names:"
   ]
  },
  {
   "cell_type": "code",
   "execution_count": null,
   "metadata": {
    "collapsed": false
   },
   "outputs": [],
   "source": [
    "b2[\"first\"]"
   ]
  },
  {
   "cell_type": "markdown",
   "metadata": {},
   "source": [
    "#### Vector arithmetic\n",
    "\n",
    "As we saw above, we compared all values in the r10 vector to 0.5 with one statement. It turns out that we can do this element-wise type of operation for many arithmetic statements as well. For example, if we add two vectors to one another, it will operate element-by-element."
   ]
  },
  {
   "cell_type": "code",
   "execution_count": null,
   "metadata": {
    "collapsed": false
   },
   "outputs": [],
   "source": [
    "\n",
    "s <- v1 + v2             # add vectors element by element\n",
    "s\n",
    "p <- v1 * v2             # multiply element by element\n",
    "p\n"
   ]
  },
  {
   "cell_type": "markdown",
   "metadata": {},
   "source": [
    "#### Vectors of different length\n",
    "\n",
    "One thing to note is that R behaves very reasonably when you are performing vector operations or comparisons are the same length - it proceeds and compares element k of vector 1 to element k of vector 2, all the way through the entire length of vector 1 and 2.\n",
    "\n",
    "What happens when the two vectors are no the same length? R \"recycles\" the shorter vector. A really clear example of this is when we compared `r10` to the value 0.5: 0.5 is, in and of itself, a vector with length 1. R effectively expanded 0.5 to length 10 (where all elements equal 0.5), and then went element by element and compared `r10` to that new, longer comparison vector. While this is a trivial example, this type of recycling is ubiquitous. For example, consider the following statement:\n"
   ]
  },
  {
   "cell_type": "code",
   "execution_count": null,
   "metadata": {
    "collapsed": false
   },
   "outputs": [],
   "source": [
    "v2/(1:2)"
   ]
  },
  {
   "cell_type": "markdown",
   "metadata": {},
   "source": [
    "Each odd number is divided by 1, and each even number is divided by 2. The statement is actually equivalent to:"
   ]
  },
  {
   "cell_type": "code",
   "execution_count": null,
   "metadata": {
    "collapsed": false
   },
   "outputs": [],
   "source": [
    "v3 <- rep(1:2, length = 10)\n",
    "v3\n",
    "v2 / v3"
   ]
  },
  {
   "cell_type": "markdown",
   "metadata": {},
   "source": [
    "#### Exercise\n",
    "\n",
    "What happens when the longer vector's length is not a multiple of the shorter vector's length (try a vector of length 3, and a vector of length 10)?\n"
   ]
  },
  {
   "cell_type": "code",
   "execution_count": null,
   "metadata": {
    "collapsed": true
   },
   "outputs": [],
   "source": [
    "## Place exercise code here"
   ]
  },
  {
   "cell_type": "markdown",
   "metadata": {},
   "source": [
    "### Matrices   \n",
    "\n",
    "Matrices are simply two-dimensional vectors. They have the same constraint that they are *homogeneous*, but they can be indexed and access by row and by column. Most generically, we use the `matrix()` function to create a matrix object."
   ]
  },
  {
   "cell_type": "code",
   "execution_count": null,
   "metadata": {
    "collapsed": false
   },
   "outputs": [],
   "source": [
    "m1 <- matrix(1:100,nrow=10,ncol=10)  \n",
    "m1  \n",
    "typeof(m1); class(m1); length(m1); dim(m1)  "
   ]
  },
  {
   "cell_type": "markdown",
   "metadata": {},
   "source": [
    "#### Indexing a Matrix\n",
    "\n",
    "A matrix still uses square brackets to access subsets. However, it is frequently indexed with both a row index and a column index, separated with a column:"
   ]
  },
  {
   "cell_type": "code",
   "execution_count": null,
   "metadata": {
    "collapsed": false
   },
   "outputs": [],
   "source": [
    "\n",
    "m1[5,5]        # index a particular element of a matrix"
   ]
  },
  {
   "cell_type": "markdown",
   "metadata": {},
   "source": [
    "If we want to index an entire row, then we leave the column index empty, and if we want to index an entire column, we leave the row index empty:"
   ]
  },
  {
   "cell_type": "code",
   "execution_count": null,
   "metadata": {
    "collapsed": false
   },
   "outputs": [],
   "source": [
    "m1[1,]\n",
    "m1[,1]"
   ]
  },
  {
   "cell_type": "markdown",
   "metadata": {},
   "source": [
    "Similar to vectors, each row and column index can be a vector, so if we want the first 3 rows and the first three columns, then we can do that easily:"
   ]
  },
  {
   "cell_type": "code",
   "execution_count": null,
   "metadata": {
    "collapsed": false
   },
   "outputs": [],
   "source": [
    "m1[1:3, 1:3]"
   ]
  },
  {
   "cell_type": "markdown",
   "metadata": {},
   "source": [
    "And we can also use vectors as indices when leaving the other dimension blank, to indicate that I want the given rows (or columns)"
   ]
  },
  {
   "cell_type": "code",
   "execution_count": null,
   "metadata": {
    "collapsed": false
   },
   "outputs": [],
   "source": [
    "m1[1:3,]      ## first three rows\n",
    "m1[,9:10]     ## last two columns"
   ]
  },
  {
   "cell_type": "markdown",
   "metadata": {},
   "source": [
    "#### Exercise\n",
    "\n",
    "Index m1 to extract the bottom right square (last 5 rows and last 5 columns).\n",
    "\n",
    "Next, index m1 to extract all the even rows\n"
   ]
  },
  {
   "cell_type": "code",
   "execution_count": null,
   "metadata": {
    "collapsed": true
   },
   "outputs": [],
   "source": [
    "## Place exercise code here."
   ]
  },
  {
   "cell_type": "markdown",
   "metadata": {},
   "source": [
    "#### Some Elementary Matrix Functions\n",
    "\n",
    "Similar to vectors, we can do element-wise arithmetic:"
   ]
  },
  {
   "cell_type": "code",
   "execution_count": null,
   "metadata": {
    "collapsed": false
   },
   "outputs": [],
   "source": [
    "m2 <- matrix(1:100,nrow=10,ncol=10, byrow = TRUE)\n",
    "\n",
    "m1^2         # square each element\n",
    "m1 + m2      # add 2 matrices elementwise\n",
    "m1 * m2      # multiply 2 matrices elementwise\n",
    "m3 <- m1 > m2      # logical element-wise comparison\n",
    "m3"
   ]
  },
  {
   "cell_type": "markdown",
   "metadata": {},
   "source": [
    "#### There are also matrix operations\n",
    "\n",
    "A number of useful operations are defined for matrices."
   ]
  },
  {
   "cell_type": "code",
   "execution_count": null,
   "metadata": {
    "collapsed": false
   },
   "outputs": [],
   "source": [
    "t(m1)              # matrix transpose\n",
    "m1 %*% m2          # matrix multiplication\n",
    "diag(m1)           # extract the diagonal\n",
    "diag(4)            # create an identity matrix\n",
    "lower.tri(m1)      # which values are in the lower triangle?\n",
    "m1[lower.tri(m1)]  # extract those values - note conversion to a vector\n",
    "outer(1:10,1:10)   # outer product"
   ]
  },
  {
   "cell_type": "markdown",
   "metadata": {},
   "source": [
    "#### And you can create matrices of different types\n",
    "\n",
    "Just like atomic vectors, matrices can be of different types."
   ]
  },
  {
   "cell_type": "code",
   "execution_count": null,
   "metadata": {
    "collapsed": false
   },
   "outputs": [],
   "source": [
    "c3 <- subset(letters,letters!=\"z\")\n",
    "c3\n",
    "m3\n",
    "typeof(m3); class(m3)\n",
    "m4 <- matrix(c3,nrow=5)\t\t# matrix of characters\n",
    "m4; typeof(m4); class(m4)"
   ]
  },
  {
   "cell_type": "markdown",
   "metadata": {},
   "source": [
    "### Arrays   \n",
    "\n",
    "Multidimensional arrays are simply the N-dimensional extension to matrices, and they are also basic data types. In the most generic case, we create an array data structure with the `array()` function. When defining a matrix, we specified the number of columns with `ncol` and the number of rows with `nrow`. With arrays, we do not know the dimensionality of the resultant array without it being specified, so we use a single argument `dim` to specify the length of each dimension. The resulting dimensionality of the object is the same as the length of the `dim` argument used in its creation."
   ]
  },
  {
   "cell_type": "code",
   "execution_count": null,
   "metadata": {
    "collapsed": false
   },
   "outputs": [],
   "source": [
    "A <- array(1:24, dim = c(3,4,2))\n",
    "A\n",
    "print(A)\n",
    "dim(A)\n",
    "B <- array(A, dim = c(2,3,4))   # reshape A\n",
    "B\n",
    "print(B)\n",
    "dim(B)"
   ]
  },
  {
   "cell_type": "markdown",
   "metadata": {},
   "source": [
    "#### Indexing Arrays\n",
    "\n",
    "Indexing arrays works very similarly to indexing matrices. The difference is that you need to maintain a position for every dimension available in the array. For example, to extract a single element from a three-dimensional array, you must specify three positions:"
   ]
  },
  {
   "cell_type": "code",
   "execution_count": null,
   "metadata": {
    "collapsed": false
   },
   "outputs": [],
   "source": [
    "A[1,1,1] ## first item\n",
    "A[3,4,2] ## last item"
   ]
  },
  {
   "cell_type": "markdown",
   "metadata": {},
   "source": [
    "If we want to extract all rows and columns for the first slice, then we leave the first two position arguments empty, and provide an index to extract the particular \"slice\"."
   ]
  },
  {
   "cell_type": "code",
   "execution_count": null,
   "metadata": {
    "collapsed": false
   },
   "outputs": [],
   "source": [
    "A[,,1]\n",
    "A[,,2]"
   ]
  },
  {
   "cell_type": "markdown",
   "metadata": {},
   "source": [
    "One common use of arrays is to represent two-dimensional space across time (the third dimension). If we wanted to extract the time-series for a particular location, we would access that particular position, but leave the third-dimension empty"
   ]
  },
  {
   "cell_type": "code",
   "execution_count": null,
   "metadata": {
    "collapsed": false
   },
   "outputs": [],
   "source": [
    "A2 <- array(rnorm(40), dim = c(2,2,10))\n",
    "A2[1,1,]\n",
    "plot(A2[1,1,], type = 'b')"
   ]
  },
  {
   "cell_type": "markdown",
   "metadata": {},
   "source": [
    "### Lists\n",
    "\n",
    "Compared to the data structures that we have seen thus far, lists are much more flexible. In fact, they are the most flexible data structure available in R. The primary difference between lists and other data structures is that an element within a list can be anything, and two elements within a list can be of different types!\n",
    "\n",
    "As a simple example, we can create a list with two elements - one element is a numeric vector, and the second element is a character vector:"
   ]
  },
  {
   "cell_type": "code",
   "execution_count": null,
   "metadata": {
    "collapsed": false
   },
   "outputs": [],
   "source": [
    "lst0 <- list(v, c1)\n",
    "lst0"
   ]
  },
  {
   "cell_type": "markdown",
   "metadata": {},
   "source": [
    "Lists are not limited to this, though - an element within a list can be **anything** that R can represent. For example, an element can be a matrix:"
   ]
  },
  {
   "cell_type": "code",
   "execution_count": null,
   "metadata": {
    "collapsed": false
   },
   "outputs": [],
   "source": [
    "lst <- list(v, c1, m1)\n",
    "lst"
   ]
  },
  {
   "cell_type": "markdown",
   "metadata": {},
   "source": [
    "It can be an array:"
   ]
  },
  {
   "cell_type": "code",
   "execution_count": null,
   "metadata": {
    "collapsed": false
   },
   "outputs": [],
   "source": [
    "lst <- list(v, c1, m1, A)\n",
    "lst"
   ]
  },
  {
   "cell_type": "markdown",
   "metadata": {},
   "source": [
    "It can even be another list!"
   ]
  },
  {
   "cell_type": "code",
   "execution_count": null,
   "metadata": {
    "collapsed": false
   },
   "outputs": [],
   "source": [
    "lst <- list(v,v1,v2,c1,list(m1,m2),c3,m3, A,B)\n",
    "lst"
   ]
  },
  {
   "cell_type": "markdown",
   "metadata": {},
   "source": [
    "With this flexibility, we can still use the same types of functions to describe the list:"
   ]
  },
  {
   "cell_type": "code",
   "execution_count": null,
   "metadata": {
    "collapsed": false
   },
   "outputs": [],
   "source": [
    "typeof(lst)\n",
    "length(lst)"
   ]
  },
  {
   "cell_type": "markdown",
   "metadata": {},
   "source": [
    "Note here that `length()` describes the number of elements within the list, not the total number of values. There are a few ways to count the \"leaves\" within the list, one of which is to flatten the list with `unlist()`, and use length on that:"
   ]
  },
  {
   "cell_type": "code",
   "execution_count": null,
   "metadata": {
    "collapsed": false
   },
   "outputs": [],
   "source": [
    "length(unlist(lst))"
   ]
  },
  {
   "cell_type": "markdown",
   "metadata": {},
   "source": [
    "#### Accessing an element within a list\n",
    "\n",
    "Accessing an element within a list can be a little confusing. The way to extract a single element from a list is to use the **double-square* bracket:"
   ]
  },
  {
   "cell_type": "code",
   "execution_count": null,
   "metadata": {
    "collapsed": false
   },
   "outputs": [],
   "source": [
    "lst[[6]]     ## extract the sixth element of a list"
   ]
  },
  {
   "cell_type": "markdown",
   "metadata": {},
   "source": [
    "Because that element is a vector, if we want to subset and identify the first 5 values (rather than the entire vector), we can continue indexing that as though `lst[[6]]` were the name of the object:"
   ]
  },
  {
   "cell_type": "code",
   "execution_count": null,
   "metadata": {
    "collapsed": false
   },
   "outputs": [],
   "source": [
    "lst[[6]][1:5]"
   ]
  },
  {
   "cell_type": "markdown",
   "metadata": {},
   "source": [
    "#### Exercise\n",
    "\n",
    "We just demonstrated how to extract some values from a vector element in a list.\n",
    "\n",
    "\n",
    "Element 7 is a matrix - can you extract the first 3 rows of that matrix?\n",
    "\n",
    "Element 8 is an array - can you extract the first \"slice\" of rows and columns (i.e. all rows and columns where the third dimension index is 1).\n",
    "\n",
    "Element 5 in `lst` is a list - can you extract the second element of *that* list? \n",
    "\n",
    "To build on the last question - Element 5 is actually a list of matrices - can you extract the first two columns of the first matrix in that sub-list?"
   ]
  },
  {
   "cell_type": "code",
   "execution_count": null,
   "metadata": {
    "collapsed": false
   },
   "outputs": [],
   "source": [
    "## Place your exercise code here\n"
   ]
  },
  {
   "cell_type": "markdown",
   "metadata": {},
   "source": [
    "### Data Frames\n",
    "\n",
    "Data frames are the internal representation of datasets within R. They mirror the ways that statisticians think about data: they are a table in which each row is an observation and each column a variable. Specifically, data frames are tabular lists, where each element within the list is a variable, but all elements are constrained to have the same length (effectively the number of rows).\n",
    "\n",
    "There are a number of data frames that are available within R that we can see with the `data()` function:"
   ]
  },
  {
   "cell_type": "code",
   "execution_count": null,
   "metadata": {
    "collapsed": true
   },
   "outputs": [],
   "source": [
    "data()"
   ]
  },
  {
   "cell_type": "markdown",
   "metadata": {},
   "source": [
    "Each one of these represents a data frame that is registered with R. We can get help on them by typing `?dataset_name`, just like we can get help on other objects in R. And we can see the dataset by typing `dataset_name`. The typical help entry is a data dictionary that defines the variables and units in that dataset.\n",
    "\n",
    "For example, examine the `mtcars` dataset"
   ]
  },
  {
   "cell_type": "code",
   "execution_count": null,
   "metadata": {
    "collapsed": false
   },
   "outputs": [],
   "source": [
    "?mtcars\n",
    "mtcars"
   ]
  },
  {
   "cell_type": "markdown",
   "metadata": {},
   "source": [
    "We can treat it as a table, and subset rows or columns (or both):"
   ]
  },
  {
   "cell_type": "code",
   "execution_count": null,
   "metadata": {
    "collapsed": true
   },
   "outputs": [],
   "source": [
    "mtcars[1:3,]      ##\n",
    "mtcars[,'mpg']    ## the columns are named, so we can use a character vector to index!"
   ]
  },
  {
   "cell_type": "markdown",
   "metadata": {},
   "source": [
    "Or, we can treat it as a list and extract the elements by accessing particular variables:"
   ]
  },
  {
   "cell_type": "code",
   "execution_count": null,
   "metadata": {
    "collapsed": true
   },
   "outputs": [],
   "source": [
    "mtcars[[1]]       ## extract the first element!"
   ]
  },
  {
   "cell_type": "markdown",
   "metadata": {},
   "source": [
    "Because the columns in a data frame are named, we can also use the `$` operator to extract variables"
   ]
  },
  {
   "cell_type": "code",
   "execution_count": null,
   "metadata": {
    "collapsed": true
   },
   "outputs": [],
   "source": [
    "mtcars$mpg"
   ]
  },
  {
   "cell_type": "markdown",
   "metadata": {},
   "source": [
    "We can also determine whether an object is a data frame by extracting the class of the object, or do more explicit testing with the `is.data.frame()` function. While conversion functions are typically called `as.XXX`, testing functions are typically named `is.XXX`."
   ]
  },
  {
   "cell_type": "code",
   "execution_count": null,
   "metadata": {
    "collapsed": false
   },
   "outputs": [],
   "source": [
    "class(mtcars)\n",
    "typeof(mtcars)\n",
    "is.data.frame(mtcars)"
   ]
  },
  {
   "cell_type": "markdown",
   "metadata": {},
   "source": [
    "As mentioned above, note that the \"type\" of mtcars is actually a list. It is a special type of list that has the constraint that each element has to have the same length as the others, but it has the benefit that there are a number of operations defined for it. The fact that a data frame is a list is what enables different variables to be different types.\n",
    "\n",
    "While the datasets surfaced through `data()` are useful, typically we want to bring (or make) our own. Typically, we would read in datasets from an external file using a function such as `read.csv()` (see more details in [this notebook](2-Reading_csv_files.ipynb)). However, if we want to construct a data frame by hand, then we can do so using the `data.frame()` function. \n",
    "\n",
    "Do you notice a pattern here? We create a matrix using the `matrix()` function, an array using the `array()` function, a list with the `list()` function, and a data frame with the `data.frame()` function. A common practice is to name constructor functions the same name as the class of object it creates.\n",
    "\n",
    "Here we build a data frame \"by hand\" using the `data.frame()` function. In this example, we will build a toy data.frame to simulate heights of men and women based on the aggregate statistics published by the cdc [here](http://www.cdc.gov/nchs/data/series/sr_11/sr11_252.pdf), specifically tables 9 and 11 (pgs 13 and 15).\n"
   ]
  },
  {
   "cell_type": "code",
   "execution_count": null,
   "metadata": {
    "collapsed": false
   },
   "outputs": [],
   "source": [
    "# simulate 20 of each gender\n",
    "number_each = 10\n",
    "# assume a normal distribution and use aggregate statistics for all females and males who have age >= 20\n",
    "# mean = mean height in cm; sd = std. error of mean * sqrt(N)\n",
    "female_height <- rnorm(number_each, mean = 162.1, sd = 0.14*sqrt(5971)) ## mean, s.e. and N from table 9\n",
    "male_height <- rnorm(number_each, mean = 175.9, sd = 0.20*sqrt(5647))   ## mean, s.e. and N from table 11\n",
    "height <- c(female_height, male_height)\n",
    "gender <- rep(c(\"f\", \"m\"), each = number_each)                          ## rep is useful to \"repeat\" vectors in systematic ways\n",
    "#\n",
    "dF <- data.frame(gender, height)\n",
    "dF"
   ]
  },
  {
   "cell_type": "markdown",
   "metadata": {},
   "source": [
    "#### Operating on a data frame\n",
    "\n",
    "We can operate on these data frames in similar ways as before. We can get data about the data frame from a variety of fashions:"
   ]
  },
  {
   "cell_type": "code",
   "execution_count": null,
   "metadata": {
    "collapsed": false
   },
   "outputs": [],
   "source": [
    "head(dF) \n",
    "dim(dF)\n",
    "typeof(dF)\n",
    "class(dF)"
   ]
  },
  {
   "cell_type": "markdown",
   "metadata": {},
   "source": [
    "What happens when we want to process each variable? Well, the easiest way is to use a \"higher-level\" function that can implicitly loop across the variables. The `apply` family of functions is good for this, and in particular, `lapply()` will allow us to apply a particular function to every element within a list. In this case, I can use lapply to get the `type` of each variable:"
   ]
  },
  {
   "cell_type": "code",
   "execution_count": null,
   "metadata": {
    "collapsed": false
   },
   "outputs": [],
   "source": [
    "lapply(dF, typeof)"
   ]
  },
  {
   "cell_type": "markdown",
   "metadata": {},
   "source": [
    "Notice that sex is now of type \"integer\"!!! How and why did the data.frame() function turn a vector of \"f\" and \"m\" values to integers? Further, if I just look at dF, it still looks like a set of \"f\" and \"m\" values...\n",
    "\n",
    "What happened is that, by default, the `data.frame()` function automatically turns character vectors into an object of class \"factor\". Factors are the R representation of categorical (i.e. nominal) variables. The `data.frame()` function has this default because in many situations (particularly model development and visualization), factors are treated specially. However, in many cases, we do not want all of our character vectors turned into factors. \n",
    "\n",
    "If we do not want this to happen, we can either set stringsAsFactors = FALSE in the call to data.frame (see ?data.frame), or this can also be set in the global options via `options(stringsAsFactors = FALSE)`\n"
   ]
  },
  {
   "cell_type": "code",
   "execution_count": null,
   "metadata": {
    "collapsed": true
   },
   "outputs": [],
   "source": [
    "## confirm that gender is in fact a factor:\n",
    "sapply(dF,class)\n",
    "\n",
    "# set it false in this particular case:\n",
    "dF2 <- data.frame(gender, height, stringsAsFactors = FALSE)\n",
    "sapply(dF2,class)\n",
    "\n",
    "# set it as a global option:\n",
    "options(stringsAsFactors = FALSE)\n",
    "dF3 <- data.frame(gender, height)  \n",
    "## I don't set stringsAsFactors = FALSE here, but it reads from the global options, so it is still a character variable!\n",
    "sapply(dF3,class)"
   ]
  },
  {
   "cell_type": "markdown",
   "metadata": {},
   "source": [
    "## Functions\n",
    "\n",
    "\"A function is a group of instructions that takes inputs, uses them to compute other values, and returns a result.\" - [Norm Matloff, The Art of R Programming](https://www.safaribooksonline.com/library/view/the-art-of/9781593273842/ch01s03.html)\n",
    "\n",
    "When we are going to do a set of steps multiple times, it can be very useful to write the specific set of steps in a function, so that we can call that single function repeatedly, rather than re-writing the same steps over and over.\n",
    "\n",
    "### Writing Functions  \n",
    "\n",
    "Let's start with a simple example. Let's say that we wanted to estimate the mean of a vector. THe mean of a vector is just:\n",
    "\n",
    "$$ \\frac{\\Sigma_{i=1}^N X}{N} $$\n",
    "\n",
    "In other words, it is simply the sum of the elements in `X` divided by the number of elements in `X`.\n",
    "\n",
    "If we want to create a function in R, we use the constructor function is called `function()`."
   ]
  },
  {
   "cell_type": "code",
   "execution_count": null,
   "metadata": {
    "collapsed": true
   },
   "outputs": [],
   "source": [
    "mymean <- function(x){\n",
    "    m <- sum(x)/length(x)\n",
    "    return(m)\n",
    "}"
   ]
  },
  {
   "cell_type": "markdown",
   "metadata": {},
   "source": [
    "This creates an object `mymean` that takes one argument (`x`) as input, and then returns the mean as the output.\n",
    "\n",
    "Once that code is run, then we can see that object in our workspace:"
   ]
  },
  {
   "cell_type": "code",
   "execution_count": null,
   "metadata": {
    "collapsed": false
   },
   "outputs": [],
   "source": [
    "ls(pattern = \"mean\")"
   ]
  },
  {
   "cell_type": "markdown",
   "metadata": {},
   "source": [
    "And we can then use that object just like any other function that we have seen before:"
   ]
  },
  {
   "cell_type": "code",
   "execution_count": null,
   "metadata": {
    "collapsed": false
   },
   "outputs": [],
   "source": [
    "mymean(female_height)"
   ]
  },
  {
   "cell_type": "markdown",
   "metadata": {},
   "source": [
    "If we wanted to go farther, we may not actually want all of the extra precision, so we could want to round the mean before reporting it.\n",
    "\n",
    "Let's try again and improve the formatting"
   ]
  },
  {
   "cell_type": "code",
   "execution_count": null,
   "metadata": {
    "collapsed": true
   },
   "outputs": [],
   "source": [
    "mymean2 <- function(x){\n",
    "  m <- round(sum(x)/length(x),2)\n",
    "  return(m)\n",
    "}"
   ]
  },
  {
   "cell_type": "code",
   "execution_count": null,
   "metadata": {
    "collapsed": false
   },
   "outputs": [],
   "source": [
    "ls(pattern = \"mean\")"
   ]
  },
  {
   "cell_type": "code",
   "execution_count": null,
   "metadata": {
    "collapsed": false
   },
   "outputs": [],
   "source": [
    "mymean2(female_height)"
   ]
  },
  {
   "cell_type": "markdown",
   "metadata": {},
   "source": [
    "Rounding is good for viewing, but may not be good for computation. It may be a good idea to allow the user to control the degree of rounding.\n",
    "\n",
    "R has a special argument that is designed for argument pass-through. This special argument is \"...\". In this context, \"...\" specifies an undisclosed number of arguments that get passed through to another function that is called in the body of the function you are defining. \n"
   ]
  },
  {
   "cell_type": "code",
   "execution_count": null,
   "metadata": {
    "collapsed": true
   },
   "outputs": [],
   "source": [
    "jmean3 <- function(x,...){\n",
    "  m <- round(sum(x)/length(x),...)\n",
    "  return(m)\n",
    "}\n"
   ]
  },
  {
   "cell_type": "markdown",
   "metadata": {},
   "source": [
    "In this case, any arguments that are not in the named arguments of the function (in this case, any argument other than `x`), will be passed through as additional arguments to `round()`."
   ]
  },
  {
   "cell_type": "code",
   "execution_count": null,
   "metadata": {
    "collapsed": false
   },
   "outputs": [],
   "source": [
    "jmean3(pemax,3) # 3 digits\n",
    "jmean3(pemax)   # the default value for round is 0\n",
    "jmean3(pemax,1) # 1 digit"
   ]
  },
  {
   "cell_type": "markdown",
   "metadata": {},
   "source": [
    "## Functions calling Functions  \n",
    "\n",
    "How about giving the user a choice about which rounding function to use?  We have already seen functions that can call other functions (e.g. `sapply()` and `lapply()`). What if we wanted to define one?\n",
    "\n",
    "Look at the difference between round() and signif()."
   ]
  },
  {
   "cell_type": "code",
   "execution_count": null,
   "metadata": {
    "collapsed": false
   },
   "outputs": [],
   "source": [
    "pi\n",
    "round(pi,4)\n",
    "signif(pi,4)"
   ]
  },
  {
   "cell_type": "markdown",
   "metadata": {},
   "source": [
    "If we wanted to write a function that takes a function as an argument, we can simplify specify an argument, and then use that argument exactly as though it were a function:"
   ]
  },
  {
   "cell_type": "code",
   "execution_count": null,
   "metadata": {
    "collapsed": false
   },
   "outputs": [],
   "source": [
    "jmean4 <- function(x,FUN,...){\n",
    "  m <- FUN(sum(x)/length(x),...)\n",
    "  return(m)\n",
    "}\n",
    "\n",
    "jmean4(female_height,round,4)\n",
    "jmean4(female_height,signif,4)\n",
    "jmean4(female_height, `(`)        ## a way of not actually rounding at all!\n",
    "       "
   ]
  },
  {
   "cell_type": "markdown",
   "metadata": {},
   "source": [
    "In the last example, note the backticks that allow R to see the parenthesis as a function handle, rather than an opening of a set of parentheses."
   ]
  },
  {
   "cell_type": "markdown",
   "metadata": {},
   "source": [
    "## Functions with Defaults\n",
    "One last try  \n",
    "     - make round the default method of rounding\n",
    "     - make the default number of decimal digits 2  "
   ]
  },
  {
   "cell_type": "code",
   "execution_count": null,
   "metadata": {
    "collapsed": false
   },
   "outputs": [],
   "source": [
    "jmean5 <- function(x,FUN = round,digits=3){\n",
    " m <- FUN(sum(x)/length(x),digits)\n",
    " return(m)\n",
    "}\n",
    "jmean5(female_height)\n",
    "jmean5(female_height,FUN=signif)\n",
    "jmean5(female_height,FUN=signif,digits=4)\n",
    "jmean5(female_height, digits = 0)      ## note that I can modify digits but NOT FUN"
   ]
  },
  {
   "cell_type": "markdown",
   "metadata": {},
   "source": [
    "#### Missing Values\n",
    "\n",
    "`NA` is the way to designate a missing value as we saw above."
   ]
  },
  {
   "cell_type": "code",
   "execution_count": null,
   "metadata": {
    "collapsed": false
   },
   "outputs": [],
   "source": [
    "z <- c(1:3,NA)\n",
    "z"
   ]
  },
  {
   "cell_type": "markdown",
   "metadata": {},
   "source": [
    "However, some care must be shown when dealing with missing values.\n",
    "\n",
    "We might normally think that we could use an equality comparison \"==\" to check for missing-ness. However, the logic functions in R are three-valued, and a missing value compared to anything is also a missing value:"
   ]
  },
  {
   "cell_type": "code",
   "execution_count": null,
   "metadata": {
    "collapsed": false
   },
   "outputs": [],
   "source": [
    "z == NA \n"
   ]
  },
  {
   "cell_type": "markdown",
   "metadata": {},
   "source": [
    "The proper way to test for a missing value is to use a \"is\" testing function. Specifically, we can use `is.na()` to test for a missing value:"
   ]
  },
  {
   "cell_type": "code",
   "execution_count": null,
   "metadata": {
    "collapsed": false
   },
   "outputs": [],
   "source": [
    "zm <- is.na(z)\n",
    "zm\n",
    "z[!zm]\n"
   ]
  },
  {
   "cell_type": "markdown",
   "metadata": {},
   "source": [
    "In addition to representing a missing value, there is a different symbol for representing \"not a number\". That symbol is `NaN`. \n",
    "\n",
    "For testing, `is.na()` will return TRUE for both `NA` and `NaN` symbols. If we want to find only `NaN` symbols, we can use `is.nan()`."
   ]
  },
  {
   "cell_type": "code",
   "execution_count": null,
   "metadata": {
    "collapsed": false
   },
   "outputs": [],
   "source": [
    "z1 <- c(z,0/0)\t\t\t\t# NaN: not a number\n",
    "z1\n",
    "is.na(z1)\t\t\t\t\t    # Finds NAs and NaNs\n",
    "#\n",
    "is.nan(z1)            # Only finds NaNs"
   ]
  },
  {
   "cell_type": "markdown",
   "metadata": {},
   "source": [
    "### Removing NAs From A Data Frame\n",
    "\n",
    "As we saw earlier a few cells above, we can index a vector with the result of `!is.na()` to return only values that are not missing.\n",
    "\n",
    "For data frames, this can be a bit more complicated, because different variables may have different rows missing. In order to simplify the process of comparing across all variables, there is a handy utility function that faciltates this: `na.omit()`\n",
    "\n",
    "`na.omit()` will remove `NA`s from a data frame. However, keep in mind that applying `na.omit()` to a data frame will remove the **entire row** if it finds an NA in any of the columns."
   ]
  },
  {
   "cell_type": "code",
   "execution_count": null,
   "metadata": {
    "collapsed": false
   },
   "outputs": [],
   "source": [
    "## insert some missing values:\n",
    "dF[c(3, 12),1] <- NA\n",
    "dF[c(7, 18),2] <- NA\n",
    "dF\n",
    "dF_no_NA <- na.omit(dF)\t\n",
    "dF_no_NA\t"
   ]
  },
  {
   "cell_type": "markdown",
   "metadata": {},
   "source": [
    "Notice now that four rows are missing (the rows we inserted `NA` into)."
   ]
  },
  {
   "cell_type": "markdown",
   "metadata": {},
   "source": [
    "### How to make a function return multiple values\n",
    "\n",
    "Earlier, we created a function that returned a length 1 vector. There is nothing particularly special about returning length 1 vectors, so if we would like to return multiple values, the easiest way is to return a data structure with multiple values. For example, we could create a function that returns a vector or a list. Specifically, in this case, we may want to create our own summary function that will provide the mean, variance, and standard deviation of all numeric variables in a data frame.\n",
    "\n",
    "A simple function that returns multiple values"
   ]
  },
  {
   "cell_type": "code",
   "execution_count": null,
   "metadata": {
    "collapsed": true
   },
   "outputs": [],
   "source": [
    "mvsd <- function(x){\n",
    "  numericvars <- sapply(x, is.numeric) # returns TRUE if a variable is numeric\n",
    "  m <- sapply(x[numericvars],mean)   ## get the means of each item in a list\n",
    "  v <- sapply(x[numericvars],var)\n",
    "  s <- sapply(x[numericvars],sd)\n",
    "  res <- list(mean = m, variance = v,sd = s)\n",
    "  return(res)\n",
    "}"
   ]
  },
  {
   "cell_type": "code",
   "execution_count": null,
   "metadata": {
    "collapsed": false
   },
   "outputs": [],
   "source": [
    "mvsd(dF_no_NA)\n",
    "mvsd(mtcars)"
   ]
  }
 ],
 "metadata": {
  "kernelspec": {
   "display_name": "MR Client 3.2.2",
   "language": "R",
   "name": "irmrc32"
  },
  "language_info": {
   "codemirror_mode": "r",
   "file_extension": ".r",
   "mimetype": "text/x-r-source",
   "name": "R",
   "pygments_lexer": "r",
   "version": "3.2.2"
  }
 },
 "nbformat": 4,
 "nbformat_minor": 0
}
