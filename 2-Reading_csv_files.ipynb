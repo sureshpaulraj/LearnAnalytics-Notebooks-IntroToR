{
 "cells": [
  {
   "cell_type": "markdown",
   "metadata": {},
   "source": [
    "# Working with .csv files\n",
    "\n",
    "In this module we will read a .csv file from the web by using its url and put it into and R data frame. Then we will write the data to disk as a .csv file and read it back into the R environment.\n",
    "\n",
    "If you are unfamiliar with notebooks, please review some basics [here](https://github.com/michhar/useR2016-tutorial-jupyter). \n",
    "\n",
    "## Essential Tips\n",
    "\n",
    "A very brief summary of the critical components and commands within jupyter are:\n",
    "\n",
    "1. Critically, press `Ctrl+Enter` to run (or render) the current cell.\n",
    "2. Output will print to the notebook. You may have to scroll up to see it all.\n",
    "3. Get help for any function by typing a question mark and then its name into\n",
    "   the console: `?rxLinMod`. It will split the window, and will bring up the documentation for \n",
    "   that function below.\n",
    "5. Files will appear in the specified directory. You can find them by selecting File in the menu bar and selecting \"Open...\". This will open a new browser window with a file navigator.\n",
    "6. R objects can be viewed by typing `ls()` in an R cell.\n",
    "7. Run all the example code!\n",
    "\n",
    "There are a number of hands-on exercises in the document, so while you can run the notebook from beginning to end, you will get a lot more out of it by actually walking through cell-by-cell, and filling out the corresponding exercises.\n",
    "\n",
    "These notebooks are based on a tutorial presented at a Microsoft conference in June of 2016. The original files are available [here](https://github.com/joseph-rickert/MLADS_JUNE_2016)"
   ]
  },
  {
   "cell_type": "markdown",
   "metadata": {},
   "source": [
    "## Fetch some data from Yahoo Finance  \n",
    "\n",
    "To begin with, we will read in some data from yahoo finance using the base `read.csv()` function that ships with R. `read.csv()` is a nice place to begin, because it works with remote URLs as well as local files. The output of this function is a `data.frame` object that exists in memory that we can then examine as any other dataset.\n",
    "\n",
    "To find the url for the IBM data yourself: go to http://finance.yahoo.com/q/hp?s=IBM+Historical+Prices. Then, go to the bottom of the page where it says \"Download Spreadsheet\", and copy the link to the table. \n",
    "\n",
    "The following cell already has the url in it. It reads the data directly from the URL into an R data frame."
   ]
  },
  {
   "cell_type": "code",
   "execution_count": null,
   "metadata": {
    "collapsed": false
   },
   "outputs": [],
   "source": [
    "url <- \"http://real-chart.finance.yahoo.com/table.csv?s=IBM&d=1&e=1&f=2016&g=d&a=0&b=2&c=1962&ignore=.csv\"\n",
    "IBM_stock_data <- read.csv(url)\n",
    "head(IBM_stock_data)"
   ]
  },
  {
   "cell_type": "markdown",
   "metadata": {},
   "source": [
    "## Exercise\n",
    "\n",
    "Look up the help for `read.csv()`. \n",
    "\n",
    "What argument would we change if the data did not have a header?\n",
    "\n",
    "Can you read in some other data (e.g. the historical prices for MSFT)?\n",
    "\n",
    "Finally, what would we use if we had a file that was formatted differently. E.g. instead of having comma-separated values, we had tab-separated values? Or, we had a \"csv\" file variant used in countries that use a comma as a decimal point and a semicolon as field separator?\n",
    "\n"
   ]
  },
  {
   "cell_type": "code",
   "execution_count": null,
   "metadata": {
    "collapsed": true
   },
   "outputs": [],
   "source": [
    "## Place Exercise code here.\n"
   ]
  },
  {
   "cell_type": "markdown",
   "metadata": {},
   "source": [
    "## Write the data to disk\n",
    "\n",
    "The problem with reading directly from the URL is that the presence of the dataset is transient - it would disappear if we restarted the R session. If we want to save the file locally so that we can read it later, then we have a few ways we can do that.\n",
    "\n",
    "First, we can write out another csv file in order to maximize portability - another user, who may not use R, can read and edit this file in the same way that they can read and edit any other csv file. We can easily create a csv file with `write.csv()`."
   ]
  },
  {
   "cell_type": "code",
   "execution_count": null,
   "metadata": {
    "collapsed": true
   },
   "outputs": [],
   "source": [
    "data_dir <- \"data\"                                     # store all data files in the data subdirectory\n",
    "dir.create(data_dir)                                   # create the directory if it doesn't already exist!\n",
    "local_ibm_csv_file <- file.path(data_dir, \"ibm_stock.csv\") # create a file path to the csv file I want to write.\n",
    "write.csv(IBM_stock_data, file=local_ibm_csv_file ,row.names=FALSE)"
   ]
  },
  {
   "cell_type": "markdown",
   "metadata": {},
   "source": [
    "If I want to see the file contents of the directory `data_dir`, then I can use the `list.files()` command. In such a case, I must specify the `path` argument. By default, it will only list the files in the current working directory."
   ]
  },
  {
   "cell_type": "code",
   "execution_count": null,
   "metadata": {
    "collapsed": false
   },
   "outputs": [],
   "source": [
    "list.files()\n",
    "list.files(path = data_dir)"
   ]
  },
  {
   "cell_type": "markdown",
   "metadata": {},
   "source": [
    "Once the file is written, I can remove the dataset from R's workspace, show that there is no longer an object that R can access with `ls()`"
   ]
  },
  {
   "cell_type": "code",
   "execution_count": null,
   "metadata": {
    "collapsed": false
   },
   "outputs": [],
   "source": [
    "ls()\n",
    "rm(IBM_stock_data)\n",
    "ls()"
   ]
  },
  {
   "cell_type": "markdown",
   "metadata": {},
   "source": [
    "## Read the .csv file from disk\n",
    "\n",
    "If I want to restore the dataset, then I can simply use `read.csv()` on the *local* file, and because the data is saved locally, I do not need an active internet connection.\n"
   ]
  },
  {
   "cell_type": "code",
   "execution_count": null,
   "metadata": {
    "collapsed": false
   },
   "outputs": [],
   "source": [
    "IBM_stock_data <- read.csv(local_ibm_csv_file)\n",
    "ls()\n",
    "head(IBM_stock_data,2)"
   ]
  },
  {
   "cell_type": "markdown",
   "metadata": {},
   "source": [
    "## Exercise\n",
    "\n",
    "Write another dataset to disk, but instead of writing a comma-separated values file, write a different type. Write a tab-separated, or semicolon-separated file.\n"
   ]
  },
  {
   "cell_type": "code",
   "execution_count": null,
   "metadata": {
    "collapsed": true
   },
   "outputs": [],
   "source": [
    "# Write exercise code here"
   ]
  },
  {
   "cell_type": "markdown",
   "metadata": {},
   "source": [
    "## Another way - rda files\n",
    "\n",
    "If you know that the file will only be read by other R users, then a more efficient approach would be to save the files in binary format. R can save objects in its workspace in a few different ways, but the most flexible is to use the `save()` function to save a `.Rda` or `.Rdata` file."
   ]
  },
  {
   "cell_type": "code",
   "execution_count": null,
   "metadata": {
    "collapsed": false
   },
   "outputs": [],
   "source": [
    "ibm_rda_file <- file.path(data_dir, 'ibm_stock.rda')\n",
    "save(IBM_stock_data, file = ibm_rda_file)"
   ]
  },
  {
   "cell_type": "markdown",
   "metadata": {},
   "source": [
    "Once it is saved to disk, then we can remove it from memory using `rm()` (just as before). However, instead of reading it as a csv file, we need to read it using the `load()` function:"
   ]
  },
  {
   "cell_type": "code",
   "execution_count": null,
   "metadata": {
    "collapsed": false
   },
   "outputs": [],
   "source": [
    "rm(IBM_stock_data)\n",
    "ls(pattern = 'IBM_stock_data')\n",
    "print(\"^^^ nothing found above here! ^^^\")\n",
    "load(ibm_rda_file)\n",
    "ls(pattern = 'IBM_stock_data')\n",
    "print(\"^^^ It should be there now! ^^^\")"
   ]
  },
  {
   "cell_type": "markdown",
   "metadata": {},
   "source": [
    "## Exercise\n",
    "\n",
    "One nice thing about `save()` and `load()` is that they work with **any** type of R object. Try saving and loading something other than a dataset.\n",
    "\n",
    "A second nice thing about these functions is that you can actually save **multiple** R objects into a single `rda` file. Try saving the `data_dir`, `IBM_stock_data`, and `ibm_rda_file` objects all into a single file. Remember to use the help if you need it!"
   ]
  },
  {
   "cell_type": "code",
   "execution_count": null,
   "metadata": {
    "collapsed": true
   },
   "outputs": [],
   "source": [
    "## Place exercise code here"
   ]
  }
 ],
 "metadata": {
  "anaconda-cloud": {},
  "kernelspec": {
   "display_name": "MR Client 3.2.2",
   "language": "R",
   "name": "irmrc32"
  },
  "language_info": {
   "codemirror_mode": "r",
   "file_extension": ".r",
   "mimetype": "text/x-r-source",
   "name": "R",
   "pygments_lexer": "r",
   "version": "3.2.2"
  }
 },
 "nbformat": 4,
 "nbformat_minor": 0
}
